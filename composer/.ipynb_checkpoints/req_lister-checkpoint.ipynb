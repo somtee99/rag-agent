{
 "cells": [
  {
   "cell_type": "code",
   "execution_count": null,
   "id": "046499e4-2f3d-4458-a299-850349a72bfb",
   "metadata": {},
   "outputs": [
    {
     "name": "stdout",
     "output_type": "stream",
     "text": [
      "beautifulsoup4==4.13.3\n",
      "colorama==0.4.6\n",
      "crewai==0.105.0\n",
      "crewai-tools==0.36.0\n",
      "datasets==3.3.2\n",
      "duckduckgo_search==7.5.1\n",
      "faiss-gpu-cu12==1.9.0.0\n",
      "jupyterlab==4.3.5\n",
      "langchain==0.3.20\n",
      "langchain-community==0.3.19\n",
      "langchain-nvidia-ai-endpoints==0.3.9\n",
      "langgraph==0.3.7\n",
      "matplotlib==3.10.1\n",
      "networkx==3.4.2\n",
      "nltk==3.9.1\n",
      "pandas==2.2.3\n",
      "plotly==6.0.0\n",
      "pyvis==0.3.2\n",
      "ragas==0.2.3\n",
      "rank-bm25==0.2.2\n",
      "scikit-learn==1.6.1\n",
      "scipy==1.15.2\n",
      "seaborn==0.13.2\n",
      "transformers==4.46.3\n"
     ]
    }
   ],
   "source": [
    "import subprocess\n",
    "\n",
    "def check_packages(requirements_file):\n",
    "    with open(requirements_file, 'r') as file:\n",
    "        packages = [line.strip().split('==')[0] for line in file if line.strip() and not line.startswith(\"#\")]\n",
    "    query = lambda p: subprocess.run(f\"pip list | grep {p}\", shell=True, capture_output=True, text=True).stdout\n",
    "    for p in sorted(packages):\n",
    "        result = \"==\".join(query(p.replace('_', '-')).strip().split()[:2])\n",
    "        if result:\n",
    "            print(result)\n",
    "            continue\n",
    "        result = \"==\".join(query(p.replace('-', '_')).strip().split()[:2])\n",
    "        if result:\n",
    "            print(result)\n",
    "            continue\n",
    "        print(f\"{p} not found in installed packages.\")\n",
    "\n",
    "requirements_file = \"./requirements.txt\"  # Change this if your file has a different name\n",
    "check_packages(requirements_file)"
   ]
  }
 ],
 "metadata": {
  "kernelspec": {
   "display_name": "Python 3 (ipykernel)",
   "language": "python",
   "name": "python3"
  },
  "language_info": {
   "codemirror_mode": {
    "name": "ipython",
    "version": 3
   },
   "file_extension": ".py",
   "mimetype": "text/x-python",
   "name": "python",
   "nbconvert_exporter": "python",
   "pygments_lexer": "ipython3",
   "version": "3.11.13"
  }
 },
 "nbformat": 4,
 "nbformat_minor": 5
}

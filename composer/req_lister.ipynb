{
 "cells": [
  {
   "cell_type": "code",
   "execution_count": 1,
   "id": "046499e4-2f3d-4458-a299-850349a72bfb",
   "metadata": {},
   "outputs": [
    {
     "name": "stdout",
     "output_type": "stream",
     "text": [
      "arxiv not found in installed packages.\n",
      "faiss-cpu not found in installed packages.\n",
      "fastapi not found in installed packages.\n",
      "gradio not found in installed packages.\n",
      "httpx_sse not found in installed packages.\n",
      "keras not found in installed packages.\n",
      "langchain not found in installed packages.\n",
      "langchain_community not found in installed packages.\n",
      "langchain_nvidia_ai_endpoints not found in installed packages.\n",
      "langchain_openai not found in installed packages.\n",
      "langserve not found in installed packages.\n",
      "openai not found in installed packages.\n",
      "pydantic not found in installed packages.\n",
      "pymupdf not found in installed packages.\n",
      "scikit-learn not found in installed packages.\n",
      "sse_starlette not found in installed packages.\n",
      "tensorflow-cpu not found in installed packages.\n",
      "uvicorn[standard] not found in installed packages.\n"
     ]
    }
   ],
   "source": [
    "import subprocess\n",
    "\n",
    "def check_packages(requirements_file):\n",
    "    with open(requirements_file, 'r') as file:\n",
    "        packages = [line.strip().split('==')[0] for line in file if line.strip() and not line.startswith(\"#\")]\n",
    "    query = lambda p: subprocess.run(f\"pip list | grep {p}\", shell=True, capture_output=True, text=True).stdout\n",
    "    for p in sorted(packages):\n",
    "        result = \"==\".join(query(p.replace('_', '-')).strip().split()[:2])\n",
    "        if result:\n",
    "            print(result)\n",
    "            continue\n",
    "        result = \"==\".join(query(p.replace('-', '_')).strip().split()[:2])\n",
    "        if result:\n",
    "            print(result)\n",
    "            continue\n",
    "        print(f\"{p} not found in installed packages.\")\n",
    "\n",
    "requirements_file = \"./requirements.txt\"  # Change this if your file has a different name\n",
    "check_packages(requirements_file)"
   ]
  },
  {
   "cell_type": "code",
   "execution_count": null,
   "id": "b3e5bbea-c7ec-4d71-82b4-cb0728f19533",
   "metadata": {},
   "outputs": [],
   "source": []
  }
 ],
 "metadata": {
  "kernelspec": {
   "display_name": "Python 3 (ipykernel)",
   "language": "python",
   "name": "python3"
  },
  "language_info": {
   "codemirror_mode": {
    "name": "ipython",
    "version": 3
   },
   "file_extension": ".py",
   "mimetype": "text/x-python",
   "name": "python",
   "nbconvert_exporter": "python",
   "pygments_lexer": "ipython3",
   "version": "3.12.10"
  }
 },
 "nbformat": 4,
 "nbformat_minor": 5
}
